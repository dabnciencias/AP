{
 "cells": [
  {
   "cell_type": "markdown",
   "id": "7d243192",
   "metadata": {},
   "source": [
    "# Clases fundamentales\n",
    "\n",
    "En este _notebook_..."
   ]
  },
  {
   "cell_type": "markdown",
   "id": "58306da8",
   "metadata": {},
   "source": [
    "## Objetos animables con `Mobject`"
   ]
  },
  {
   "cell_type": "code",
   "execution_count": 1,
   "id": "63094f1d",
   "metadata": {},
   "outputs": [],
   "source": [
    "# Código"
   ]
  },
  {
   "cell_type": "markdown",
   "id": "fc1ddb88",
   "metadata": {},
   "source": [
    "## Escenas animadas con `Scene`"
   ]
  },
  {
   "cell_type": "code",
   "execution_count": null,
   "id": "1775d1ff",
   "metadata": {},
   "outputs": [],
   "source": []
  },
  {
   "cell_type": "markdown",
   "id": "9a79a4f5",
   "metadata": {},
   "source": [
    "## Manejo de cámara con `Camera`"
   ]
  },
  {
   "cell_type": "code",
   "execution_count": null,
   "id": "66604c19",
   "metadata": {},
   "outputs": [],
   "source": []
  },
  {
   "cell_type": "markdown",
   "id": "d70e824e",
   "metadata": {},
   "source": [
    "## Animaciones con `Animation`"
   ]
  },
  {
   "cell_type": "code",
   "execution_count": null,
   "id": "0d0ea53d",
   "metadata": {},
   "outputs": [],
   "source": []
  },
  {
   "cell_type": "markdown",
   "id": "d7b89dec",
   "metadata": {},
   "source": [
    "## Recursos adicionales\n",
    "*"
   ]
  }
 ],
 "metadata": {
  "kernelspec": {
   "display_name": "Python 3 (ipykernel)",
   "language": "python",
   "name": "python3"
  },
  "language_info": {
   "codemirror_mode": {
    "name": "ipython",
    "version": 3
   },
   "file_extension": ".py",
   "mimetype": "text/x-python",
   "name": "python",
   "nbconvert_exporter": "python",
   "pygments_lexer": "ipython3",
   "version": "3.10.7"
  }
 },
 "nbformat": 4,
 "nbformat_minor": 5
}
