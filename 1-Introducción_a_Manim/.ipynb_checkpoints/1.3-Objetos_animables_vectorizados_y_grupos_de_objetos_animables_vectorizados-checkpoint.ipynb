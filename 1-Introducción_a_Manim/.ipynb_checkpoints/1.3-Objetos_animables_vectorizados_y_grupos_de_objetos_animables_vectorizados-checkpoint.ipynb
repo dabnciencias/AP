{
 "cells": [
  {
   "cell_type": "markdown",
   "id": "7d243192",
   "metadata": {},
   "source": [
    "# Objetos animables vectorizados y grupos de objetos animables vectorizados\n",
    "\n",
    "En este _notebook_..."
   ]
  },
  {
   "cell_type": "markdown",
   "id": "58306da8",
   "metadata": {},
   "source": [
    "## Objetos animables vectorizados con `Mobject -> VMobject`"
   ]
  },
  {
   "cell_type": "code",
   "execution_count": 1,
   "id": "63094f1d",
   "metadata": {},
   "outputs": [],
   "source": [
    "# Código"
   ]
  },
  {
   "cell_type": "markdown",
   "id": "1c844994",
   "metadata": {},
   "source": [
    "### Algunos ejemplos de VMobjects"
   ]
  },
  {
   "cell_type": "code",
   "execution_count": null,
   "id": "4fe2a8dc",
   "metadata": {},
   "outputs": [],
   "source": []
  },
  {
   "cell_type": "markdown",
   "id": "9dbb87fd",
   "metadata": {},
   "source": [
    "### La subclase `Mobject -> VMobject -> SVGMobject`"
   ]
  },
  {
   "cell_type": "code",
   "execution_count": null,
   "id": "6056f5e4",
   "metadata": {},
   "outputs": [],
   "source": []
  },
  {
   "cell_type": "markdown",
   "id": "dd1a734a",
   "metadata": {},
   "source": [
    "## Grupos de bjetos animables vectorizados con `Mobject -> VMobject -> VGroup`"
   ]
  },
  {
   "cell_type": "code",
   "execution_count": null,
   "id": "b69ed427",
   "metadata": {},
   "outputs": [],
   "source": []
  },
  {
   "cell_type": "markdown",
   "id": "d7b89dec",
   "metadata": {},
   "source": [
    "## Recursos adicionales\n",
    "*"
   ]
  }
 ],
 "metadata": {
  "kernelspec": {
   "display_name": "Python 3 (ipykernel)",
   "language": "python",
   "name": "python3"
  },
  "language_info": {
   "codemirror_mode": {
    "name": "ipython",
    "version": 3
   },
   "file_extension": ".py",
   "mimetype": "text/x-python",
   "name": "python",
   "nbconvert_exporter": "python",
   "pygments_lexer": "ipython3",
   "version": "3.10.7"
  }
 },
 "nbformat": 4,
 "nbformat_minor": 5
}
