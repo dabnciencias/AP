{
 "cells": [
  {
   "cell_type": "markdown",
   "id": "fb4fca9e",
   "metadata": {},
   "source": [
    "# Sintáxis y tipos de datos básicos de Python\n",
    "\n",
    "En este _notebook_..."
   ]
  },
  {
   "cell_type": "markdown",
   "id": "9513c5db",
   "metadata": {},
   "source": [
    "## Operadores lógicos y tipos de datos Booleanos"
   ]
  },
  {
   "cell_type": "code",
   "execution_count": null,
   "id": "d4c11ab6",
   "metadata": {},
   "outputs": [],
   "source": []
  },
  {
   "cell_type": "markdown",
   "id": "9e28e7ea",
   "metadata": {},
   "source": [
    "## Operadores aritméticos y tipos de datos numéricos"
   ]
  },
  {
   "cell_type": "code",
   "execution_count": null,
   "id": "73aaa1c3",
   "metadata": {},
   "outputs": [],
   "source": []
  },
  {
   "cell_type": "markdown",
   "id": "d0de82ef",
   "metadata": {},
   "source": [
    "## Variables, constantes y funciones"
   ]
  },
  {
   "cell_type": "code",
   "execution_count": null,
   "id": "5e461f1d",
   "metadata": {},
   "outputs": [],
   "source": []
  },
  {
   "cell_type": "markdown",
   "id": "4aede3cb",
   "metadata": {},
   "source": [
    "## Declaraciones condicionales"
   ]
  },
  {
   "cell_type": "code",
   "execution_count": null,
   "id": "5fdc10dd",
   "metadata": {},
   "outputs": [],
   "source": []
  },
  {
   "cell_type": "markdown",
   "id": "7a00eb84",
   "metadata": {},
   "source": [
    "## Ciclos iterativos"
   ]
  },
  {
   "cell_type": "markdown",
   "id": "e84803b1",
   "metadata": {},
   "source": [
    "### Ciclos `for`"
   ]
  },
  {
   "cell_type": "code",
   "execution_count": null,
   "id": "7e5eb88b",
   "metadata": {},
   "outputs": [],
   "source": []
  },
  {
   "cell_type": "markdown",
   "id": "cc5522a8",
   "metadata": {},
   "source": [
    "### Ciclos `while`"
   ]
  },
  {
   "cell_type": "code",
   "execution_count": null,
   "id": "e2ffe669",
   "metadata": {},
   "outputs": [],
   "source": []
  },
  {
   "cell_type": "markdown",
   "id": "f7f5a1ba",
   "metadata": {},
   "source": [
    "## El tipo de dato de texto `string`\n"
   ]
  },
  {
   "cell_type": "code",
   "execution_count": null,
   "id": "ffa842b9",
   "metadata": {},
   "outputs": [],
   "source": []
  },
  {
   "cell_type": "markdown",
   "id": "a5a4c7f0",
   "metadata": {},
   "source": [
    "## Listas"
   ]
  },
  {
   "cell_type": "code",
   "execution_count": null,
   "id": "7a6cc1b8",
   "metadata": {},
   "outputs": [],
   "source": []
  },
  {
   "cell_type": "markdown",
   "id": "c97994be",
   "metadata": {},
   "source": [
    "## Diccionarios"
   ]
  },
  {
   "cell_type": "code",
   "execution_count": null,
   "id": "28450c87",
   "metadata": {},
   "outputs": [],
   "source": []
  },
  {
   "cell_type": "markdown",
   "id": "00bad4cc",
   "metadata": {},
   "source": [
    "### Mutabilidad e inmutabilidad"
   ]
  },
  {
   "cell_type": "code",
   "execution_count": null,
   "id": "0df3331b",
   "metadata": {},
   "outputs": [],
   "source": []
  },
  {
   "cell_type": "markdown",
   "id": "5bbf5e62",
   "metadata": {},
   "source": [
    "## Recursos adicionales\n",
    "* Página web [Learn Python in Y Minutes](https://learnxinyminutes.com/docs/python/).\n",
    "* Artículo [Mutability & Immutability in Python](https://pythonsimplified.com/mutability-immutability-in-python/) de la página web [Python Simplified](https://pythonsimplified.com/).\n",
    "* [Documentación de Python](https://www.python.org/doc/)."
   ]
  }
 ],
 "metadata": {
  "kernelspec": {
   "display_name": "Python 3 (ipykernel)",
   "language": "python",
   "name": "python3"
  },
  "language_info": {
   "codemirror_mode": {
    "name": "ipython",
    "version": 3
   },
   "file_extension": ".py",
   "mimetype": "text/x-python",
   "name": "python",
   "nbconvert_exporter": "python",
   "pygments_lexer": "ipython3",
   "version": "3.10.7"
  }
 },
 "nbformat": 4,
 "nbformat_minor": 5
}
