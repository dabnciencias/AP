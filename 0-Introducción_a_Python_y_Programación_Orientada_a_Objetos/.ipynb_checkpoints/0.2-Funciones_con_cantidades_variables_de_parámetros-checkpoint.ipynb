{
 "cells": [
  {
   "cell_type": "markdown",
   "id": "ceb60625",
   "metadata": {},
   "source": [
    "# Funciones con cantidades variables de parámetros\n",
    "\n",
    "En este _notebook_..."
   ]
  },
  {
   "cell_type": "markdown",
   "id": "c8bc571b",
   "metadata": {},
   "source": [
    "## `*args`"
   ]
  },
  {
   "cell_type": "code",
   "execution_count": null,
   "id": "f3cbe565",
   "metadata": {},
   "outputs": [],
   "source": []
  },
  {
   "cell_type": "markdown",
   "id": "bc972528",
   "metadata": {},
   "source": [
    "## `**kwargs`"
   ]
  },
  {
   "cell_type": "code",
   "execution_count": null,
   "id": "03adfb46",
   "metadata": {},
   "outputs": [],
   "source": []
  },
  {
   "cell_type": "markdown",
   "id": "dc257dd8",
   "metadata": {},
   "source": [
    "## Recursos adicionales\n",
    "*"
   ]
  }
 ],
 "metadata": {
  "kernelspec": {
   "display_name": "Python 3 (ipykernel)",
   "language": "python",
   "name": "python3"
  },
  "language_info": {
   "codemirror_mode": {
    "name": "ipython",
    "version": 3
   },
   "file_extension": ".py",
   "mimetype": "text/x-python",
   "name": "python",
   "nbconvert_exporter": "python",
   "pygments_lexer": "ipython3",
   "version": "3.10.7"
  }
 },
 "nbformat": 4,
 "nbformat_minor": 5
}
