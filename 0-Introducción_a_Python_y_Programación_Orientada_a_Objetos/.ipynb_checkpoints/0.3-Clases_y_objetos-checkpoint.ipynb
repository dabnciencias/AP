{
 "cells": [
  {
   "cell_type": "markdown",
   "id": "7d243192",
   "metadata": {},
   "source": [
    "# Clases y objetos\n",
    "\n",
    "En este _notebook_..."
   ]
  },
  {
   "cell_type": "markdown",
   "id": "58306da8",
   "metadata": {},
   "source": [
    "## Paradigma de Programación Orientada a Objetos (OOP)"
   ]
  },
  {
   "cell_type": "code",
   "execution_count": 1,
   "id": "63094f1d",
   "metadata": {},
   "outputs": [],
   "source": [
    "# Código"
   ]
  },
  {
   "cell_type": "markdown",
   "id": "d7b89dec",
   "metadata": {},
   "source": [
    "## Recursos adicionales\n",
    "*"
   ]
  }
 ],
 "metadata": {
  "kernelspec": {
   "display_name": "Python 3 (ipykernel)",
   "language": "python",
   "name": "python3"
  },
  "language_info": {
   "codemirror_mode": {
    "name": "ipython",
    "version": 3
   },
   "file_extension": ".py",
   "mimetype": "text/x-python",
   "name": "python",
   "nbconvert_exporter": "python",
   "pygments_lexer": "ipython3",
   "version": "3.10.7"
  }
 },
 "nbformat": 4,
 "nbformat_minor": 5
}
